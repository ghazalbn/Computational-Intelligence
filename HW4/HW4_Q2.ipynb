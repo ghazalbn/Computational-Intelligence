{
  "nbformat": 4,
  "nbformat_minor": 0,
  "metadata": {
    "colab": {
      "provenance": []
    },
    "kernelspec": {
      "name": "python3",
      "display_name": "Python 3"
    },
    "language_info": {
      "name": "python"
    }
  },
  "cells": [
    {
      "cell_type": "markdown",
      "source": [
        "## HW4 Q3\n",
        "**Bakhshande 98522157**"
      ],
      "metadata": {
        "id": "E9fdM6-rp6ER"
      }
    },
    {
      "cell_type": "code",
      "source": [
        "import numpy as np\n",
        "import pandas as pd\n",
        "import random as rd\n",
        "from random import randint\n",
        "import matplotlib.pyplot as plt"
      ],
      "metadata": {
        "id": "fvvwGQoqp8Io"
      },
      "execution_count": null,
      "outputs": []
    },
    {
      "cell_type": "markdown",
      "source": [
        "## Initialization"
      ],
      "metadata": {
        "id": "s8W97mZSPvQO"
      }
    },
    {
      "cell_type": "code",
      "source": [
        "threshold = 25  \n",
        "\n",
        "rock = np.array([1,2,3,4,5,6,7,8])\n",
        "weight = np.array([2,4,1,3,5,1,7,4])\n",
        "value = np.array([30,10,20,50,70,15,40,25])\n",
        "\n",
        "print('Rock --> Weight --> Value')\n",
        "for i in range(rock.shape[0]):\n",
        "    print('{} ------> {} ------> {}'.format(rock[i], weight[i], value[i]))"
      ],
      "metadata": {
        "colab": {
          "base_uri": "https://localhost:8080/"
        },
        "id": "g82-jphJP155",
        "outputId": "55267f99-5dc0-42d6-8468-6f25cd5253b0"
      },
      "execution_count": null,
      "outputs": [
        {
          "output_type": "stream",
          "name": "stdout",
          "text": [
            "Rock --> Weight --> Value\n",
            "1 ------> 2 ------> 30\n",
            "2 ------> 4 ------> 10\n",
            "3 ------> 1 ------> 20\n",
            "4 ------> 3 ------> 50\n",
            "5 ------> 5 ------> 70\n",
            "6 ------> 1 ------> 15\n",
            "7 ------> 7 ------> 40\n",
            "8 ------> 4 ------> 25\n"
          ]
        }
      ]
    },
    {
      "cell_type": "code",
      "source": [
        "chromo = 8\n",
        "size_of_population = (chromo, rock.shape[0])\n",
        "print('Size Of Population is: {}'.format(size_of_population))\n",
        "\n",
        "initial = np.random.randint(2, size = size_of_population)\n",
        "initial = initial.astype(int)\n",
        "generations = 50\n",
        "print('Initial Population is: \\n{}'.format(initial))"
      ],
      "metadata": {
        "colab": {
          "base_uri": "https://localhost:8080/"
        },
        "id": "n0tBepL6QN7O",
        "outputId": "090791a1-a500-4268-b97f-129470b41d1f"
      },
      "execution_count": null,
      "outputs": [
        {
          "output_type": "stream",
          "name": "stdout",
          "text": [
            "Size Of Population is: (8, 8)\n",
            "Initial Population is: \n",
            "[[0 0 0 0 0 0 0 0]\n",
            " [1 0 0 1 0 0 0 0]\n",
            " [0 1 1 0 1 0 0 0]\n",
            " [1 0 0 1 1 0 0 1]\n",
            " [1 1 1 1 0 0 0 0]\n",
            " [0 0 1 0 1 1 0 1]\n",
            " [0 0 1 1 0 0 1 1]\n",
            " [0 0 1 0 1 0 0 0]]\n"
          ]
        }
      ]
    },
    {
      "cell_type": "markdown",
      "source": [
        "## Fitness Function"
      ],
      "metadata": {
        "id": "sq14UVYGQTXF"
      }
    },
    {
      "cell_type": "code",
      "source": [
        "def fit(weight, value, pop, threshold):\n",
        "\n",
        "    fitness = np.empty(pop.shape[0])\n",
        "    \n",
        "    for i in range(pop.shape[0]):\n",
        "        S1 = np.sum(pop[i] * value)\n",
        "        S2 = np.sum(pop[i] * weight)\n",
        "        if S2 <= threshold:\n",
        "            fitness[i] = S1\n",
        "        else :\n",
        "            fitness[i] = 0 \n",
        "\n",
        "    return fitness.astype(int)  "
      ],
      "metadata": {
        "id": "UNq4RCleQVnK"
      },
      "execution_count": null,
      "outputs": []
    },
    {
      "cell_type": "markdown",
      "source": [
        "## Selecting Function"
      ],
      "metadata": {
        "id": "s9oChhESQYs9"
      }
    },
    {
      "cell_type": "code",
      "source": [
        "def selecting(fi, num, pop):\n",
        "\n",
        "    parents = np.empty((num, pop.shape[1]))\n",
        "    fit = list(fi)\n",
        "\n",
        "    for i in range(num):\n",
        "        maximum_fit = np.where(fit == np.max(fit))\n",
        "        parents[i,:] = pop[maximum_fit[0][0], :]\n",
        "        fit[maximum_fit[0][0]] = -99\n",
        "        \n",
        "    return parents"
      ],
      "metadata": {
        "id": "YVXy8za2QbNr"
      },
      "execution_count": null,
      "outputs": []
    },
    {
      "cell_type": "markdown",
      "source": [
        "## One-Point Crossover"
      ],
      "metadata": {
        "id": "NjK7NgJ-QeBK"
      }
    },
    {
      "cell_type": "code",
      "source": [
        "def crossover(par, number): \n",
        "\n",
        "    i=0\n",
        "    rate_of_cross = 0.8\n",
        "    point_of_cross = int(par.shape[1]/2)\n",
        "    res = np.empty((number, par.shape[1]))\n",
        "\n",
        "    while (par.shape[0] < number):\n",
        "        x = rd.random()\n",
        "        par1 = (i+1)%par.shape[0]\n",
        "        par2 = i%par.shape[0]\n",
        "\n",
        "        if x > rate_of_cross:\n",
        "            continue\n",
        "            \n",
        "        par2 = i%par.shape[0]\n",
        "        par1 = (i+1)%par.shape[0]\n",
        "        res[i,0:point_of_cross] = par[par2,0:point_of_cross]\n",
        "        res[i,point_of_cross:] = par[par1,point_of_cross:]\n",
        "        i=+1\n",
        "\n",
        "    return res    "
      ],
      "metadata": {
        "id": "Yc4WlA0MQit5"
      },
      "execution_count": null,
      "outputs": []
    },
    {
      "cell_type": "markdown",
      "source": [
        "## Mutation"
      ],
      "metadata": {
        "id": "0bBE9qIhQp3U"
      }
    },
    {
      "cell_type": "code",
      "source": [
        "def mutation(df):\n",
        "\n",
        "    rate_of_mu = 0.4\n",
        "    mu = np.empty((df.shape)) \n",
        "\n",
        "    for i in range(mu.shape[0]):\n",
        "        mu[i,:] = df[i,:]\n",
        "        val = rd.random()\n",
        "        \n",
        "        if val > rate_of_mu:\n",
        "            continue\n",
        "\n",
        "        val_rand = randint(0,df.shape[1]-1)    \n",
        "        if mu[i,val_rand] == 0 :\n",
        "            mu[i,val_rand] = 1\n",
        "        else :\n",
        "            mu[i,val_rand] = 0\n",
        "\n",
        "    return mu  "
      ],
      "metadata": {
        "id": "9BfBst1-QswU"
      },
      "execution_count": null,
      "outputs": []
    },
    {
      "cell_type": "code",
      "source": [
        "def optimize(weight, value, pop, size, gens, threshold):\n",
        "\n",
        "    par_numbers = int(size[0]/2)\n",
        "    nums = size[0] - par_numbers \n",
        "    parm, fitn = [], []\n",
        "\n",
        "    for i in range(gens):\n",
        "        asd = fit(weight, value, pop, threshold)\n",
        "        fitn.append(asd)\n",
        "        paa = selecting(asd, par_numbers, pop)\n",
        "        fg = crossover(paa, nums)\n",
        "        yu = mutation(fg)\n",
        "        pop[0:paa.shape[0], :] = paa\n",
        "        pop[paa.shape[0]:, :] = yu\n",
        "        \n",
        "    print('Chromosomes of Last generation are: \\n{}\\n'.format(pop)) \n",
        "\n",
        "    asdef = fit(weight, value, pop, threshold)      \n",
        "    max_fitness = np.where(asdef == np.max(asdef))\n",
        "    parm.append(pop[max_fitness[0][0],:])\n",
        "\n",
        "    return parm, fitn"
      ],
      "metadata": {
        "id": "xGuM1PT0QzLT"
      },
      "execution_count": null,
      "outputs": []
    },
    {
      "cell_type": "code",
      "source": [
        "params, kh = optimize(weight, value, initial, size_of_population, generations, threshold)\n",
        "print('Result Choromosome is: {}'.format(params))\n",
        "\n",
        "se = rock * params\n",
        "array = ['زمرد', 'نقره', 'یاقوت', 'الماس', 'برلیان', 'فیروزه', 'عتیق', 'کهربا']\n",
        "print('Selected Rocks are:')\n",
        "for i in range(se.shape[1]):\n",
        "  if se[0][i] != 0:\n",
        "     print('{}: {}'.format(se[0][i], array[i]))"
      ],
      "metadata": {
        "colab": {
          "base_uri": "https://localhost:8080/"
        },
        "id": "dkYrMUmOQ2AF",
        "outputId": "26ab5560-c034-4c9e-a8c4-801af11888da"
      },
      "execution_count": null,
      "outputs": [
        {
          "output_type": "stream",
          "name": "stdout",
          "text": [
            "Chromosomes of Last generation are: \n",
            "[[1 0 1 1 1 1 1 1]\n",
            " [1 0 1 1 1 1 1 1]\n",
            " [1 0 1 1 1 1 1 1]\n",
            " [1 0 1 1 1 1 1 1]\n",
            " [1 1 1 1 1 1 1 1]\n",
            " [1 0 1 1 1 1 1 1]\n",
            " [1 0 1 1 1 1 0 1]\n",
            " [1 0 1 0 1 1 1 1]]\n",
            "\n",
            "Result Choromosome is: [array([1, 0, 1, 1, 1, 1, 1, 1])]\n",
            "Selected Rocks are:\n",
            "1: زمرد\n",
            "3: یاقوت\n",
            "4: الماس\n",
            "5: برلیان\n",
            "6: فیروزه\n",
            "7: عتیق\n",
            "8: کهربا\n"
          ]
        }
      ]
    }
  ]
}