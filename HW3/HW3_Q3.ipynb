{
  "cells": [
    {
      "cell_type": "code",
      "execution_count": 38,
      "id": "1dfd64ed",
      "metadata": {
        "colab": {
          "base_uri": "https://localhost:8080/"
        },
        "id": "1dfd64ed",
        "outputId": "784f46b8-498d-4b95-b060-4d148c325dda"
      },
      "outputs": [
        {
          "output_type": "stream",
          "name": "stdout",
          "text": [
            "Looking in indexes: https://pypi.org/simple, https://us-python.pkg.dev/colab-wheels/public/simple/\n",
            "Requirement already satisfied: simpful in /usr/local/lib/python3.8/dist-packages (2.9.0)\n",
            "Requirement already satisfied: requests in /usr/local/lib/python3.8/dist-packages (from simpful) (2.25.1)\n",
            "Requirement already satisfied: scipy>=1.0.0 in /usr/local/lib/python3.8/dist-packages (from simpful) (1.7.3)\n",
            "Requirement already satisfied: numpy>=1.12.0 in /usr/local/lib/python3.8/dist-packages (from simpful) (1.21.6)\n",
            "Requirement already satisfied: idna<3,>=2.5 in /usr/local/lib/python3.8/dist-packages (from requests->simpful) (2.10)\n",
            "Requirement already satisfied: urllib3<1.27,>=1.21.1 in /usr/local/lib/python3.8/dist-packages (from requests->simpful) (1.24.3)\n",
            "Requirement already satisfied: chardet<5,>=3.0.2 in /usr/local/lib/python3.8/dist-packages (from requests->simpful) (4.0.0)\n",
            "Requirement already satisfied: certifi>=2017.4.17 in /usr/local/lib/python3.8/dist-packages (from requests->simpful) (2022.12.7)\n"
          ]
        }
      ],
      "source": [
        "!pip install simpful"
      ]
    },
    {
      "cell_type": "code",
      "execution_count": 39,
      "id": "1311680d",
      "metadata": {
        "id": "1311680d"
      },
      "outputs": [],
      "source": [
        "from simpful import *"
      ]
    },
    {
      "cell_type": "code",
      "execution_count": 40,
      "id": "bfb19c63",
      "metadata": {
        "colab": {
          "base_uri": "https://localhost:8080/"
        },
        "id": "bfb19c63",
        "outputId": "86831b9e-6028-46ed-dfe7-c47622a6ef57"
      },
      "outputs": [
        {
          "output_type": "stream",
          "name": "stdout",
          "text": [
            "  ____  __  _  _  ____  ____  _  _  __   \n",
            " / ___)(  )( \\/ )(  _ \\(  __)/ )( \\(  ) v2.9.0 \n",
            " \\___ \\ )( / \\/ \\ ) __/ ) _) ) \\/ (/ (_/\\ \n",
            " (____/(__)\\_)(_/(__)  (__)  \\____/\\____/\n",
            "\n",
            " Created by Marco S. Nobile (m.s.nobile@tue.nl)\n",
            " and Simone Spolaor (simone.spolaor@unimib.it)\n",
            "\n"
          ]
        }
      ],
      "source": [
        "FS = FuzzySystem()\n",
        "\n",
        "temperature = AutoTriangle(\n",
        "    3, terms=['cold', 'normal', 'hot'], \n",
        "    universe_of_discourse=[0, 70]\n",
        ")\n",
        "humidity = AutoTriangle(\n",
        "    5, terms=['very_low', 'low', 'normal', 'high', 'very_high'], \n",
        "    universe_of_discourse=[0, 100]\n",
        ")\n",
        "raining = AutoTriangle(\n",
        "    3, terms=['a_little', 'normal', 'a_lot'], \n",
        "    universe_of_discourse=[0, 10000]\n",
        ")\n",
        "height = AutoTriangle(\n",
        "    5, terms=['very_low', 'low', 'normal', 'high', 'very_high'], \n",
        "    universe_of_discourse=[0, 5000]\n",
        ")"
      ]
    },
    {
      "cell_type": "code",
      "execution_count": 41,
      "id": "dc8dda61",
      "metadata": {
        "id": "dc8dda61"
      },
      "outputs": [],
      "source": [
        "FS.add_linguistic_variable(\"today_temperature\", temperature)\n",
        "FS.add_linguistic_variable(\"yesterday_temperature\", temperature)\n",
        "FS.add_linguistic_variable(\"two_days_ago_temperature\", temperature)\n",
        "FS.add_linguistic_variable(\"three_days_ago_temperature\", temperature)\n",
        "FS.add_linguistic_variable(\"humidity\", humidity)\n",
        "FS.add_linguistic_variable(\"raining\", raining)\n",
        "FS.add_linguistic_variable(\"height\", height)"
      ]
    },
    {
      "cell_type": "code",
      "execution_count": 42,
      "id": "d6747fa5",
      "metadata": {
        "colab": {
          "base_uri": "https://localhost:8080/"
        },
        "id": "d6747fa5",
        "outputId": "e5748ec9-bb0b-4951-ca5b-2c7e04e95262"
      },
      "outputs": [
        {
          "output_type": "stream",
          "name": "stdout",
          "text": [
            " * Simple clause with parentheses matched\n",
            " * Rule: c.(humidity IS low)\n",
            " * Added rule IF c.(humidity IS low) THEN ('today_temperature', 'hot')\n",
            "\n",
            " * Regular expression is not matching with single atomic clause\n",
            " * Looking for an operator in (yesterday_temperature IS cold) AND (two_days_ago_temperature IS cold) AND (three_days_ago_temperature IS cold)\n",
            "  -- Found (yesterday_temperature IS cold) *AND* (two_days_ago_temperature IS cold) AND (three_days_ago_temperature IS cold)\n",
            " * Simple clause with parentheses matched\n",
            " * Rule: c.(yesterday_temperature IS cold)\n",
            " * Regular expression is not matching with single atomic clause\n",
            " * Looking for an operator in (two_days_ago_temperature IS cold) AND (three_days_ago_temperature IS cold)\n",
            "  -- Found (two_days_ago_temperature IS cold) *AND* (three_days_ago_temperature IS cold)\n",
            " * Simple clause with parentheses matched\n",
            " * Rule: c.(two_days_ago_temperature IS cold)\n",
            " * Simple clause with parentheses matched\n",
            " * Rule: c.(three_days_ago_temperature IS cold)\n",
            " * Added rule IF f.(c.(yesterday_temperature IS cold) AND f.(c.(two_days_ago_temperature IS cold) AND c.(three_days_ago_temperature IS cold))) THEN ('today_temperature', 'cold')\n",
            "\n",
            " * Regular expression is not matching with single atomic clause\n",
            " * Looking for an operator in (yesterday_temperature IS normal) AND (height IS low)\n",
            "  -- Found (yesterday_temperature IS normal) *AND* (height IS low)\n",
            " * Simple clause with parentheses matched\n",
            " * Rule: c.(yesterday_temperature IS normal)\n",
            " * Simple clause with parentheses matched\n",
            " * Rule: c.(height IS low)\n",
            " * Added rule IF f.(c.(yesterday_temperature IS normal) AND c.(height IS low)) THEN ('today_temperature', 'normal')\n",
            "\n",
            " * Regular expression is not matching with single atomic clause\n",
            " * Looking for an operator in (three_days_ago_temperature IS hot) AND (raining IS normal)\n",
            "  -- Found (three_days_ago_temperature IS hot) *AND* (raining IS normal)\n",
            " * Simple clause with parentheses matched\n",
            " * Rule: c.(three_days_ago_temperature IS hot)\n",
            " * Simple clause with parentheses matched\n",
            " * Rule: c.(raining IS normal)\n",
            " * Added rule IF f.(c.(three_days_ago_temperature IS hot) AND c.(raining IS normal)) THEN ('today_temperature', 'hot')\n",
            "\n",
            " * Regular expression is not matching with single atomic clause\n",
            " * Looking for an operator in (height IS high) AND (humidity IS very_high)\n",
            "  -- Found (height IS high) *AND* (humidity IS very_high)\n",
            " * Simple clause with parentheses matched\n",
            " * Rule: c.(height IS high)\n",
            " * Simple clause with parentheses matched\n",
            " * Rule: c.(humidity IS very_high)\n",
            " * Added rule IF f.(c.(height IS high) AND c.(humidity IS very_high)) THEN ('today_temperature', 'cold')\n",
            "\n",
            " * Regular expression is not matching with single atomic clause\n",
            " * Looking for an operator in (yesterday_temperature IS hot) AND (two_days_ago_temperature IS hot) AND (three_days_ago_temperature IS hot)\n",
            "  -- Found (yesterday_temperature IS hot) *AND* (two_days_ago_temperature IS hot) AND (three_days_ago_temperature IS hot)\n",
            " * Simple clause with parentheses matched\n",
            " * Rule: c.(yesterday_temperature IS hot)\n",
            " * Regular expression is not matching with single atomic clause\n",
            " * Looking for an operator in (two_days_ago_temperature IS hot) AND (three_days_ago_temperature IS hot)\n",
            "  -- Found (two_days_ago_temperature IS hot) *AND* (three_days_ago_temperature IS hot)\n",
            " * Simple clause with parentheses matched\n",
            " * Rule: c.(two_days_ago_temperature IS hot)\n",
            " * Simple clause with parentheses matched\n",
            " * Rule: c.(three_days_ago_temperature IS hot)\n",
            " * Added rule IF f.(c.(yesterday_temperature IS hot) AND f.(c.(two_days_ago_temperature IS hot) AND c.(three_days_ago_temperature IS hot))) THEN ('today_temperature', 'hot')\n",
            "\n",
            " * Regular expression is not matching with single atomic clause\n",
            " * Looking for an operator in (yesterday_temperature IS cold) OR (height IS very_high)\n",
            "  -- Found (yesterday_temperature IS cold) *OR* (height IS very_high)\n",
            " * Simple clause with parentheses matched\n",
            " * Rule: c.(yesterday_temperature IS cold)\n",
            " * Simple clause with parentheses matched\n",
            " * Rule: c.(height IS very_high)\n",
            " * Added rule IF f.(c.(yesterday_temperature IS cold) OR c.(height IS very_high)) THEN ('today_temperature', 'cold')\n",
            "\n",
            " * Regular expression is not matching with single atomic clause\n",
            " * Looking for an operator in (two_days_ago_temperature IS hot) OR (raining IS a_little)\n",
            "  -- Found (two_days_ago_temperature IS hot) *OR* (raining IS a_little)\n",
            " * Simple clause with parentheses matched\n",
            " * Rule: c.(two_days_ago_temperature IS hot)\n",
            " * Simple clause with parentheses matched\n",
            " * Rule: c.(raining IS a_little)\n",
            " * Added rule IF f.(c.(two_days_ago_temperature IS hot) OR c.(raining IS a_little)) THEN ('today_temperature', 'hot')\n",
            "\n",
            " * Regular expression is not matching with single atomic clause\n",
            " * Looking for an operator in (humidity IS normal) OR (raining IS normal)\n",
            "  -- Found (humidity IS normal) *OR* (raining IS normal)\n",
            " * Simple clause with parentheses matched\n",
            " * Rule: c.(humidity IS normal)\n",
            " * Simple clause with parentheses matched\n",
            " * Rule: c.(raining IS normal)\n",
            " * Added rule IF f.(c.(humidity IS normal) OR c.(raining IS normal)) THEN ('today_temperature', 'normal')\n",
            "\n",
            " * Regular expression is not matching with single atomic clause\n",
            " * Looking for an operator in (yesterday_temperature IS normal) AND (raining IS a_little)\n",
            "  -- Found (yesterday_temperature IS normal) *AND* (raining IS a_little)\n",
            " * Simple clause with parentheses matched\n",
            " * Rule: c.(yesterday_temperature IS normal)\n",
            " * Simple clause with parentheses matched\n",
            " * Rule: c.(raining IS a_little)\n",
            " * Added rule IF f.(c.(yesterday_temperature IS normal) AND c.(raining IS a_little)) THEN ('today_temperature', 'normal')\n",
            "\n",
            " * 10 rules successfully added\n"
          ]
        }
      ],
      "source": [
        "Rules = [\n",
        "    \"IF (humidity IS low) THEN (today_temperature IS hot)\",\n",
        "    \"IF (yesterday_temperature IS cold) AND (two_days_ago_temperature IS cold) AND (three_days_ago_temperature IS cold) THEN (today_temperature IS cold)\",\n",
        "    \"IF (yesterday_temperature IS normal) AND (height IS low) THEN (today_temperature IS normal)\",\n",
        "    \"IF (three_days_ago_temperature IS hot) AND (raining IS normal) THEN (today_temperature IS hot)\",\n",
        "    \"IF (height IS high) AND (humidity IS very_high) THEN (today_temperature IS cold)\",\n",
        "    \"IF (yesterday_temperature IS hot) AND (two_days_ago_temperature IS hot) AND (three_days_ago_temperature IS hot) THEN (today_temperature IS hot)\",\n",
        "    \"IF (yesterday_temperature IS cold) OR (height IS very_high) THEN (today_temperature IS cold)\",\n",
        "    \"IF (two_days_ago_temperature IS hot) OR (raining IS a_little) THEN (today_temperature IS hot)\",\n",
        "    \"IF (humidity IS normal) OR (raining IS normal) THEN (today_temperature IS normal)\",\n",
        "    \"IF (yesterday_temperature IS normal) AND (raining IS a_little) THEN (today_temperature IS normal)\"\n",
        "]\n",
        "FS.add_rules(Rules, verbose=True)"
      ]
    },
    {
      "cell_type": "markdown",
      "id": "19decd47",
      "metadata": {
        "id": "19decd47"
      },
      "source": [
        "## Set Variables"
      ]
    },
    {
      "cell_type": "code",
      "execution_count": 43,
      "id": "8b83e29f",
      "metadata": {
        "id": "8b83e29f"
      },
      "outputs": [],
      "source": [
        "FS.set_variable(\"yesterday_temperature\", 50)\n",
        "FS.set_variable(\"two_days_ago_temperature\", 35)\n",
        "FS.set_variable(\"three_days_ago_temperature\", 20)\n",
        "FS.set_variable(\"humidity\", 30)\n",
        "FS.set_variable(\"raining\", 5000)\n",
        "FS.set_variable(\"height\", 2300)"
      ]
    },
    {
      "cell_type": "code",
      "execution_count": 46,
      "id": "1795e1ee",
      "metadata": {
        "colab": {
          "base_uri": "https://localhost:8080/"
        },
        "id": "1795e1ee",
        "outputId": "5e2f85b8-6736-46c0-e0ea-aca12a69bcef"
      },
      "outputs": [
        {
          "output_type": "stream",
          "name": "stdout",
          "text": [
            "yesterday temperature: 50\n",
            "two days ago temperature: 35\n",
            "three days ago temperature: 20\n",
            "humidity: 30\n",
            "raining: 5000\n",
            "height: 2300\n",
            "\n",
            "today temperature is: 40.416303354171006\n"
          ]
        }
      ],
      "source": [
        "result_temperature = FS.inference()\n",
        "\n",
        "print(\"yesterday temperature:\", 50)\n",
        "print(\"two days ago temperature:\", 35)\n",
        "print(\"three days ago temperature:\", 20)\n",
        "print(\"humidity:\", 30)\n",
        "print(\"raining:\", 5000)\n",
        "print(\"height:\", 2300)\n",
        "\n",
        "print('\\ntoday temperature is:', result_temperature['today_temperature'])"
      ]
    },
    {
      "cell_type": "code",
      "execution_count": 44,
      "id": "34cc01f3",
      "metadata": {
        "id": "34cc01f3"
      },
      "outputs": [],
      "source": []
    }
  ],
  "metadata": {
    "kernelspec": {
      "display_name": "Python 3 (ipykernel)",
      "language": "python",
      "name": "python3"
    },
    "language_info": {
      "codemirror_mode": {
        "name": "ipython",
        "version": 3
      },
      "file_extension": ".py",
      "mimetype": "text/x-python",
      "name": "python",
      "nbconvert_exporter": "python",
      "pygments_lexer": "ipython3",
      "version": "3.8.10"
    },
    "colab": {
      "provenance": []
    }
  },
  "nbformat": 4,
  "nbformat_minor": 5
}