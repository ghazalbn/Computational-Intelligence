{
  "cells": [
    {
      "cell_type": "code",
      "execution_count": 1,
      "id": "386c2f64",
      "metadata": {
        "id": "386c2f64"
      },
      "outputs": [],
      "source": [
        "import math\n",
        "import numpy as np\n",
        "import matplotlib.pyplot as plt"
      ]
    },
    {
      "cell_type": "code",
      "execution_count": 2,
      "id": "716ae49a",
      "metadata": {
        "id": "716ae49a"
      },
      "outputs": [],
      "source": [
        "class Hopfield:\n",
        "    def __init__(self, n):\n",
        "        self.n = n\n",
        "        self.W = np.zeros((n, n), dtype=np.int64)\n",
        "        self.P = 0\n",
        "\n",
        "    def get_W(self, patterns):\n",
        "        P = np.dot(patterns.T, patterns)\n",
        "        np.fill_diagonal(P, 0.0)\n",
        "        self.W = P\n",
        "\n",
        "    def store(self, X):\n",
        "        self.get_W(X)\n",
        "        self.P = X.shape[1]\n",
        "        return self.W\n",
        "\n",
        "    def check_pattern(self, pattern, epochs=5, report=True):\n",
        "        stable = False\n",
        "        a = np.array(pattern)\n",
        "        A = [a]\n",
        "        D = [math.inf]\n",
        "\n",
        "        if report:\n",
        "            print(\"Pattern:\", pattern)\n",
        "            \n",
        "        for i in range(epochs):\n",
        "            u = np.dot(a, self.W)\n",
        "            a = np.sign(u)\n",
        "            d = self.P - np.count_nonzero(np.equal(pattern, a)) # difference\n",
        "            A.append(a)\n",
        "            D.append(d)\n",
        "            \n",
        "            if np.array_equal(A[-1], A[-2]): # if converged\n",
        "                if i == 0:\n",
        "                    stable = True\n",
        "                    if report:\n",
        "                        print(\"Pattern is stable.\")\n",
        "                elif report:\n",
        "                    print(\"converged to same pattern in iteration:\", i)\n",
        "                break\n",
        "\n",
        "        A = np.array(A)\n",
        "        D = np.array(D)\n",
        "\n",
        "        min_ind = np.argmin(D)\n",
        "        nearest = A[min_ind]\n",
        "        accuracy = (self.P - D[min_ind]) / self.P\n",
        "        energy = -1 * np.sum(np.multiply(np.outer(nearest, nearest), self.W))\n",
        "        \n",
        "        if report:\n",
        "            print(\"Nearest pattern found in iteration:\", min_ind)\n",
        "            print(\"Nearest pattern:\", nearest)\n",
        "            print(\"Accuracy:\", accuracy * 100, \"%\")\n",
        "            print(\"Energy:\", energy)\n",
        "\n",
        "        return stable, nearest, accuracy, energy\n",
        "\n",
        "    def find_stable_patterns(self):\n",
        "\n",
        "        stable_patterns = []\n",
        "        for i in range(2 ** self.n):\n",
        "\n",
        "            binary = list(format(i, f'0{self.n}b'))\n",
        "            pattern = [1 if int(bit) else -1 for bit in binary]\n",
        "            stable = self.check_pattern(pattern, report=False)[0]\n",
        "\n",
        "            if(stable):\n",
        "                stable_patterns.append(pattern)\n",
        "\n",
        "        return stable_patterns"
      ]
    },
    {
      "cell_type": "code",
      "execution_count": 3,
      "id": "e6ca4377",
      "metadata": {
        "colab": {
          "base_uri": "https://localhost:8080/"
        },
        "id": "e6ca4377",
        "outputId": "c810cc73-0968-4e46-b2e6-16f0027beab8"
      },
      "outputs": [
        {
          "output_type": "stream",
          "name": "stdout",
          "text": [
            "3 patterns stored.\n",
            "\n",
            "Weight Matrix:\n",
            "\n",
            " [[ 0  1 -1  3  1 -1  3 -1]\n",
            " [ 1  0  1  1 -1  1  1  1]\n",
            " [-1  1  0 -1  1 -1 -1  3]\n",
            " [ 3  1 -1  0  1 -1  3 -1]\n",
            " [ 1 -1  1  1  0 -3  1  1]\n",
            " [-1  1 -1 -1 -3  0 -1 -1]\n",
            " [ 3  1 -1  3  1 -1  0 -1]\n",
            " [-1  1  3 -1  1 -1 -1  0]]\n"
          ]
        }
      ],
      "source": [
        "hopfield = Hopfield(8)\n",
        "\n",
        "X = np.array([\n",
        "    [-1, -1, 1, -1, 1, -1, -1, 1],\n",
        "    [-1, -1, -1, -1, -1, 1, -1, -1],\n",
        "    [-1, 1, 1, -1, -1, 1, -1, 1]\n",
        "])\n",
        "\n",
        "W = hopfield.store(X)\n",
        "\n",
        "print(X.shape[0], 'patterns stored.\\n')\n",
        "print('Weight Matrix:\\n\\n', W)"
      ]
    },
    {
      "cell_type": "markdown",
      "id": "82552ff6",
      "metadata": {
        "id": "82552ff6"
      },
      "source": [
        "## 1.1 check X1, X2, X3 patterns"
      ]
    },
    {
      "cell_type": "code",
      "execution_count": 4,
      "id": "e5c3a4ed",
      "metadata": {
        "colab": {
          "base_uri": "https://localhost:8080/"
        },
        "id": "e5c3a4ed",
        "outputId": "1304ff4c-7431-4d9e-e86f-5560654e8fe7"
      },
      "outputs": [
        {
          "output_type": "stream",
          "name": "stdout",
          "text": [
            "Pattern: [-1 -1  1 -1  1 -1 -1  1]\n",
            "Pattern is stable.\n",
            "Nearest pattern found in iteration: 1\n",
            "Nearest pattern: [-1 -1  1 -1  1 -1 -1  1]\n",
            "Accuracy: 100.0 %\n",
            "Energy: -44\n"
          ]
        }
      ],
      "source": [
        "X1 = X[0]\n",
        "stable, nearest_pattern, accuracy, energy = hopfield.check_pattern(X1)"
      ]
    },
    {
      "cell_type": "code",
      "execution_count": 5,
      "id": "ba95c95c",
      "metadata": {
        "colab": {
          "base_uri": "https://localhost:8080/"
        },
        "id": "ba95c95c",
        "outputId": "1b48d7cb-97e0-421b-b445-6b3f593ca557"
      },
      "outputs": [
        {
          "output_type": "stream",
          "name": "stdout",
          "text": [
            "Pattern: [-1 -1 -1 -1 -1  1 -1 -1]\n",
            "Pattern is stable.\n",
            "Nearest pattern found in iteration: 1\n",
            "Nearest pattern: [-1 -1 -1 -1 -1  1 -1 -1]\n",
            "Accuracy: 100.0 %\n",
            "Energy: -44\n"
          ]
        }
      ],
      "source": [
        "X2 = X[1]\n",
        "stable, nearest_pattern, accuracy, energy = hopfield.check_pattern(X2)"
      ]
    },
    {
      "cell_type": "code",
      "execution_count": 6,
      "id": "994e6a32",
      "metadata": {
        "colab": {
          "base_uri": "https://localhost:8080/"
        },
        "id": "994e6a32",
        "outputId": "ebae5b60-a872-40f7-ee38-52f44791317c"
      },
      "outputs": [
        {
          "output_type": "stream",
          "name": "stdout",
          "text": [
            "Pattern: [-1  1  1 -1 -1  1 -1  1]\n",
            "Pattern is stable.\n",
            "Nearest pattern found in iteration: 1\n",
            "Nearest pattern: [-1  1  1 -1 -1  1 -1  1]\n",
            "Accuracy: 100.0 %\n",
            "Energy: -48\n"
          ]
        }
      ],
      "source": [
        "X3 = X[2]\n",
        "stable, nearest_pattern, accuracy, energy = hopfield.check_pattern(X3)"
      ]
    },
    {
      "cell_type": "markdown",
      "id": "d6d03367",
      "metadata": {
        "id": "d6d03367"
      },
      "source": [
        "## 1.2 check X1n, X2n, X3n patterns"
      ]
    },
    {
      "cell_type": "code",
      "execution_count": 7,
      "id": "8d473f07",
      "metadata": {
        "colab": {
          "base_uri": "https://localhost:8080/"
        },
        "id": "8d473f07",
        "outputId": "521d960c-40e1-48bb-ac92-927f5aec1774"
      },
      "outputs": [
        {
          "output_type": "stream",
          "name": "stdout",
          "text": [
            "Pattern: [1, -1, 1, -1, 1, -1, -1, 1]\n",
            "converged to same pattern in iteration: 1\n",
            "Nearest pattern found in iteration: 1\n",
            "Nearest pattern: [-1 -1  1 -1  1 -1 -1  1]\n",
            "Accuracy: 87.5 %\n",
            "Energy: -44\n"
          ]
        }
      ],
      "source": [
        "X1n = [1, -1, 1, -1, 1, -1, -1, 1]\n",
        "stable, nearest_pattern, accuracy, energy = hopfield.check_pattern(X1n)"
      ]
    },
    {
      "cell_type": "code",
      "execution_count": 8,
      "id": "bef9f40f",
      "metadata": {
        "colab": {
          "base_uri": "https://localhost:8080/"
        },
        "id": "bef9f40f",
        "outputId": "f630dee8-bdc2-42f1-a7cb-d380b6063878"
      },
      "outputs": [
        {
          "output_type": "stream",
          "name": "stdout",
          "text": [
            "Pattern: [1, 1, -1, -1, -1, 1, -1, -1]\n",
            "Nearest pattern found in iteration: 2\n",
            "Nearest pattern: [ 1  1 -1 -1 -1  1 -1 -1]\n",
            "Accuracy: 100.0 %\n",
            "Energy: -12\n"
          ]
        }
      ],
      "source": [
        "X2n = [1, 1, -1, -1, -1, 1, -1, -1]\n",
        "stable, nearest_pattern, accuracy, energy = hopfield.check_pattern(X2n)"
      ]
    },
    {
      "cell_type": "code",
      "execution_count": 9,
      "id": "7fa049a4",
      "metadata": {
        "colab": {
          "base_uri": "https://localhost:8080/"
        },
        "id": "7fa049a4",
        "outputId": "1815c18d-c5ce-49ac-8510-48d1735dbaf7"
      },
      "outputs": [
        {
          "output_type": "stream",
          "name": "stdout",
          "text": [
            "Pattern: [1, 1, 1, -1, 1, 1, -1, 1]\n",
            "Nearest pattern found in iteration: 2\n",
            "Nearest pattern: [-1 -1  1 -1  1  1 -1  1]\n",
            "Accuracy: 75.0 %\n",
            "Energy: -32\n"
          ]
        }
      ],
      "source": [
        "X3n = [1, 1, 1, -1, 1, 1, -1, 1]\n",
        "stable, nearest_pattern, accuracy, energy = hopfield.check_pattern(X3n)"
      ]
    },
    {
      "cell_type": "markdown",
      "id": "3e9d77d4",
      "metadata": {
        "id": "3e9d77d4"
      },
      "source": [
        "## 1.3 Stable Patterns"
      ]
    },
    {
      "cell_type": "code",
      "execution_count": 10,
      "id": "a2555ebd",
      "metadata": {
        "colab": {
          "base_uri": "https://localhost:8080/"
        },
        "id": "a2555ebd",
        "outputId": "66efe42d-191f-4794-be50-c40c747c3229"
      },
      "outputs": [
        {
          "output_type": "stream",
          "name": "stdout",
          "text": [
            "stable patterns count: 6\n",
            "these patterns are stable:\n",
            "\n",
            "[-1, -1, -1, -1, -1, 1, -1, -1]\n",
            "[-1, -1, 1, -1, 1, -1, -1, 1]\n",
            "[-1, 1, 1, -1, -1, 1, -1, 1]\n",
            "[1, -1, -1, 1, 1, -1, 1, -1]\n",
            "[1, 1, -1, 1, -1, 1, 1, -1]\n",
            "[1, 1, 1, 1, 1, -1, 1, 1]\n"
          ]
        }
      ],
      "source": [
        "stable_patterns = hopfield.find_stable_patterns()\n",
        "print('stable patterns count:', len(stable_patterns))\n",
        "print('these patterns are stable:\\n')\n",
        "print(*stable_patterns, sep='\\n')"
      ]
    },
    {
      "cell_type": "markdown",
      "id": "045f380f",
      "metadata": {
        "id": "045f380f"
      },
      "source": [
        "## 1.4 Noisy Patterns"
      ]
    },
    {
      "cell_type": "code",
      "execution_count": 11,
      "id": "fee003e8",
      "metadata": {
        "colab": {
          "base_uri": "https://localhost:8080/"
        },
        "id": "fee003e8",
        "outputId": "c213143e-ea1d-470d-eaf6-5def736e2888"
      },
      "outputs": [
        {
          "output_type": "stream",
          "name": "stdout",
          "text": [
            "Pattern: [-1, 1, -1, 1, 1, -1, 1, -1]\n",
            "converged to same pattern in iteration: 1\n",
            "Nearest pattern found in iteration: 1\n",
            "Nearest pattern: [ 1 -1 -1  1  1 -1  1 -1]\n",
            "Accuracy: 75.0 %\n",
            "Energy: -48\n"
          ]
        }
      ],
      "source": [
        "X3nn = [-1, 1, -1, 1, 1, -1, 1, -1] #6 bit noise\n",
        "stable, nearest_pattern, accuracy, energy = hopfield.check_pattern(X3nn, 10)"
      ]
    },
    {
      "cell_type": "code",
      "execution_count": 12,
      "id": "dc9ebd34",
      "metadata": {
        "colab": {
          "base_uri": "https://localhost:8080/"
        },
        "id": "dc9ebd34",
        "outputId": "0c8dc731-afff-4633-d237-b469e8107edf"
      },
      "outputs": [
        {
          "output_type": "stream",
          "name": "stdout",
          "text": [
            "Pattern: [1, -1, 1, -1, 1, -1, -1, -1]\n",
            "Nearest pattern found in iteration: 2\n",
            "Nearest pattern: [ 1 -1  1  1  1 -1  1 -1]\n",
            "Accuracy: 75.0 %\n",
            "Energy: -28\n"
          ]
        }
      ],
      "source": [
        "X4nn = [1, -1, 1, -1, 1, -1, -1, -1] #4 bit noise\n",
        "stable, nearest_pattern, accuracy, energy = hopfield.check_pattern(X4nn, 10)"
      ]
    },
    {
      "cell_type": "code",
      "execution_count": 12,
      "id": "fab8d6a9",
      "metadata": {
        "id": "fab8d6a9"
      },
      "outputs": [],
      "source": []
    }
  ],
  "metadata": {
    "kernelspec": {
      "display_name": "Python 3 (ipykernel)",
      "language": "python",
      "name": "python3"
    },
    "language_info": {
      "codemirror_mode": {
        "name": "ipython",
        "version": 3
      },
      "file_extension": ".py",
      "mimetype": "text/x-python",
      "name": "python",
      "nbconvert_exporter": "python",
      "pygments_lexer": "ipython3",
      "version": "3.8.10"
    },
    "colab": {
      "provenance": []
    }
  },
  "nbformat": 4,
  "nbformat_minor": 5
}