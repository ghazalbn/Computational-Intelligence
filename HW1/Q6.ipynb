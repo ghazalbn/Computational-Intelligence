{
 "cells": [
  {
   "cell_type": "markdown",
   "id": "d4647fd3",
   "metadata": {},
   "source": [
    "# HomeWork 1\n",
    "\n",
    "**Bakhshande 98522157**"
   ]
  },
  {
   "cell_type": "markdown",
   "id": "4599dcd8",
   "metadata": {},
   "source": [
    "# Q6"
   ]
  },
  {
   "cell_type": "code",
   "execution_count": 1,
   "id": "6efca5fe",
   "metadata": {},
   "outputs": [],
   "source": [
    "import numpy as np\n",
    "import matplotlib.pyplot as plt\n",
    "from keras.layers import Input, Dense, Flatten, Activation\n",
    "from keras.models import Sequential\n",
    "from keras.optimizers import SGD\n",
    "from keras.datasets import mnist\n",
    "from keras.utils import to_categorical"
   ]
  },
  {
   "cell_type": "code",
   "execution_count": 2,
   "id": "b6941c5d",
   "metadata": {},
   "outputs": [
    {
     "name": "stdout",
     "output_type": "stream",
     "text": [
      "(60000, 28, 28)\n",
      "(60000,)\n"
     ]
    }
   ],
   "source": [
    "(x_train, y_train), (x_test, y_test) = mnist.load_data()\n",
    "print(x_train.shape)\n",
    "print(y_train.shape)"
   ]
  },
  {
   "cell_type": "code",
   "execution_count": 3,
   "id": "62e9a164",
   "metadata": {},
   "outputs": [
    {
     "data": {
      "image/png": "[encoded data removed]",
      "text/plain": [
       "<Figure size 1800x288 with 8 Axes>"
      ]
     },
     "metadata": {},
     "output_type": "display_data"
    }
   ],
   "source": [
    "plt.figure(figsize=(25,4))\n",
    "for i in range(8):\n",
    "    plt.subplot(1,8,i+1)\n",
    "    plt.imshow(x_train[i], cmap='gray')\n",
    "    plt.xticks([])\n",
    "    plt.yticks([])\n",
    "    plt.title(y_train[i])"
   ]
  },
  {
   "cell_type": "code",
   "execution_count": 4,
   "id": "bc6ab690",
   "metadata": {},
   "outputs": [
    {
     "name": "stdout",
     "output_type": "stream",
     "text": [
      "60000\n",
      "10000\n",
      "10\n"
     ]
    }
   ],
   "source": [
    "x_train = x_train.astype(float) / 255.0\n",
    "x_test  = x_test.astype(float) / 255.0\n",
    "\n",
    "num_classes = len(np.unique(y_train))\n",
    "y_train = to_categorical(y_train, num_classes=num_classes)\n",
    "y_test = to_categorical(y_test, num_classes=num_classes)\n",
    "\n",
    "dataset_size = x_train.shape[0]\n",
    "test_dataset_size = x_test.shape[0]\n",
    "input_size = x_train[0].shape\n",
    "\n",
    "print(dataset_size)\n",
    "print(test_dataset_size)\n",
    "print(num_classes)"
   ]
  },
  {
   "cell_type": "code",
   "execution_count": 5,
   "id": "747b0d54",
   "metadata": {},
   "outputs": [
    {
     "name": "stdout",
     "output_type": "stream",
     "text": [
      "Model: \"sequential\"\n",
      "_________________________________________________________________\n",
      " Layer (type)                Output Shape              Param #   \n",
      "=================================================================\n",
      " flatten (Flatten)           (None, 784)               0         \n",
      "                                                                 \n",
      " dense (Dense)               (None, 128)               100480    \n",
      "                                                                 \n",
      " activation (Activation)     (None, 128)               0         \n",
      "                                                                 \n",
      " dense_1 (Dense)             (None, 128)               16512     \n",
      "                                                                 \n",
      " activation_1 (Activation)   (None, 128)               0         \n",
      "                                                                 \n",
      " dense_2 (Dense)             (None, 10)                1290      \n",
      "                                                                 \n",
      " activation_2 (Activation)   (None, 10)                0         \n",
      "                                                                 \n",
      "=================================================================\n",
      "Total params: 118,282\n",
      "Trainable params: 118,282\n",
      "Non-trainable params: 0\n",
      "_________________________________________________________________\n",
      "None\n"
     ]
    }
   ],
   "source": [
    "model = Sequential()\n",
    "\n",
    "model.add(Input(shape=input_size))\n",
    "model.add(Flatten())\n",
    "\n",
    "model.add(Dense(128))\n",
    "model.add(Activation('relu'))\n",
    "\n",
    "model.add(Dense(128))\n",
    "model.add(Activation('relu'))\n",
    "\n",
    "model.add(Dense(num_classes))\n",
    "model.add(Activation('softmax'))\n",
    "\n",
    "print(model.summary())"
   ]
  },
  {
   "cell_type": "code",
   "execution_count": 6,
   "id": "a5438de5",
   "metadata": {},
   "outputs": [],
   "source": [
    "model.compile(\n",
    "    loss = 'categorical_crossentropy',\n",
    "    optimizer = SGD(),\n",
    "    metrics = ['accuracy']\n",
    "    )"
   ]
  },
  {
   "cell_type": "code",
   "execution_count": 7,
   "id": "a70ae964",
   "metadata": {},
   "outputs": [
    {
     "name": "stdout",
     "output_type": "stream",
     "text": [
      "Epoch 1/40\n",
      "375/375 [==============================] - 2s 3ms/step - loss: 1.4852 - accuracy: 0.6363 - val_loss: 0.7554 - val_accuracy: 0.8478\n",
      "Epoch 2/40\n",
      "375/375 [==============================] - 1s 3ms/step - loss: 0.5927 - accuracy: 0.8582 - val_loss: 0.4515 - val_accuracy: 0.8856\n",
      "Epoch 3/40\n",
      "375/375 [==============================] - 1s 3ms/step - loss: 0.4328 - accuracy: 0.8854 - val_loss: 0.3727 - val_accuracy: 0.9003\n",
      "Epoch 4/40\n",
      "375/375 [==============================] - 1s 3ms/step - loss: 0.3734 - accuracy: 0.8981 - val_loss: 0.3343 - val_accuracy: 0.9081\n",
      "Epoch 5/40\n",
      "375/375 [==============================] - 1s 3ms/step - loss: 0.3396 - accuracy: 0.9046 - val_loss: 0.3098 - val_accuracy: 0.9133\n",
      "Epoch 6/40\n",
      "375/375 [==============================] - 1s 3ms/step - loss: 0.3164 - accuracy: 0.9111 - val_loss: 0.2920 - val_accuracy: 0.9163\n",
      "Epoch 7/40\n",
      "375/375 [==============================] - 1s 3ms/step - loss: 0.2983 - accuracy: 0.9154 - val_loss: 0.2779 - val_accuracy: 0.9204\n",
      "Epoch 8/40\n",
      "375/375 [==============================] - 1s 3ms/step - loss: 0.2833 - accuracy: 0.9199 - val_loss: 0.2673 - val_accuracy: 0.9237\n",
      "Epoch 9/40\n",
      "375/375 [==============================] - 1s 3ms/step - loss: 0.2706 - accuracy: 0.9228 - val_loss: 0.2565 - val_accuracy: 0.9269\n",
      "Epoch 10/40\n",
      "375/375 [==============================] - 1s 3ms/step - loss: 0.2595 - accuracy: 0.9262 - val_loss: 0.2466 - val_accuracy: 0.9296\n",
      "Epoch 11/40\n",
      "375/375 [==============================] - 1s 3ms/step - loss: 0.2494 - accuracy: 0.9288 - val_loss: 0.2384 - val_accuracy: 0.9323\n",
      "Epoch 12/40\n",
      "375/375 [==============================] - 1s 3ms/step - loss: 0.2403 - accuracy: 0.9309 - val_loss: 0.2314 - val_accuracy: 0.9344\n",
      "Epoch 13/40\n",
      "375/375 [==============================] - 1s 3ms/step - loss: 0.2319 - accuracy: 0.9333 - val_loss: 0.2247 - val_accuracy: 0.9354\n",
      "Epoch 14/40\n",
      "375/375 [==============================] - 1s 3ms/step - loss: 0.2241 - accuracy: 0.9362 - val_loss: 0.2186 - val_accuracy: 0.9387\n",
      "Epoch 15/40\n",
      "375/375 [==============================] - 1s 3ms/step - loss: 0.2171 - accuracy: 0.9380 - val_loss: 0.2121 - val_accuracy: 0.9398\n",
      "Epoch 16/40\n",
      "375/375 [==============================] - 1s 3ms/step - loss: 0.2102 - accuracy: 0.9396 - val_loss: 0.2072 - val_accuracy: 0.9420\n",
      "Epoch 17/40\n",
      "375/375 [==============================] - 1s 3ms/step - loss: 0.2037 - accuracy: 0.9413 - val_loss: 0.2024 - val_accuracy: 0.9427\n",
      "Epoch 18/40\n",
      "375/375 [==============================] - 1s 3ms/step - loss: 0.1982 - accuracy: 0.9432 - val_loss: 0.1978 - val_accuracy: 0.9446\n",
      "Epoch 19/40\n",
      "375/375 [==============================] - 1s 3ms/step - loss: 0.1926 - accuracy: 0.9448 - val_loss: 0.1925 - val_accuracy: 0.9464\n",
      "Epoch 20/40\n",
      "375/375 [==============================] - 1s 3ms/step - loss: 0.1876 - accuracy: 0.9461 - val_loss: 0.1883 - val_accuracy: 0.9468\n",
      "Epoch 21/40\n",
      "375/375 [==============================] - 1s 3ms/step - loss: 0.1827 - accuracy: 0.9481 - val_loss: 0.1856 - val_accuracy: 0.9480\n",
      "Epoch 22/40\n",
      "375/375 [==============================] - 1s 3ms/step - loss: 0.1782 - accuracy: 0.9493 - val_loss: 0.1821 - val_accuracy: 0.9485\n",
      "Epoch 23/40\n",
      "375/375 [==============================] - 1s 3ms/step - loss: 0.1738 - accuracy: 0.9503 - val_loss: 0.1783 - val_accuracy: 0.9502\n",
      "Epoch 24/40\n",
      "375/375 [==============================] - 1s 4ms/step - loss: 0.1697 - accuracy: 0.9517 - val_loss: 0.1762 - val_accuracy: 0.9503\n",
      "Epoch 25/40\n",
      "375/375 [==============================] - 1s 4ms/step - loss: 0.1655 - accuracy: 0.9528 - val_loss: 0.1727 - val_accuracy: 0.9512\n",
      "Epoch 26/40\n",
      "375/375 [==============================] - 1s 3ms/step - loss: 0.1620 - accuracy: 0.9534 - val_loss: 0.1692 - val_accuracy: 0.9523\n",
      "Epoch 27/40\n",
      "375/375 [==============================] - 1s 4ms/step - loss: 0.1582 - accuracy: 0.9546 - val_loss: 0.1658 - val_accuracy: 0.9533\n",
      "Epoch 28/40\n",
      "375/375 [==============================] - 1s 3ms/step - loss: 0.1546 - accuracy: 0.9559 - val_loss: 0.1637 - val_accuracy: 0.9539\n",
      "Epoch 29/40\n",
      "375/375 [==============================] - 1s 3ms/step - loss: 0.1513 - accuracy: 0.9570 - val_loss: 0.1619 - val_accuracy: 0.9537\n",
      "Epoch 30/40\n",
      "375/375 [==============================] - 1s 3ms/step - loss: 0.1483 - accuracy: 0.9578 - val_loss: 0.1581 - val_accuracy: 0.9550\n",
      "Epoch 31/40\n",
      "375/375 [==============================] - 1s 3ms/step - loss: 0.1451 - accuracy: 0.9585 - val_loss: 0.1567 - val_accuracy: 0.9554\n",
      "Epoch 32/40\n",
      "375/375 [==============================] - 1s 3ms/step - loss: 0.1423 - accuracy: 0.9599 - val_loss: 0.1539 - val_accuracy: 0.9563\n",
      "Epoch 33/40\n",
      "375/375 [==============================] - 1s 3ms/step - loss: 0.1392 - accuracy: 0.9603 - val_loss: 0.1518 - val_accuracy: 0.9565\n",
      "Epoch 34/40\n",
      "375/375 [==============================] - 1s 3ms/step - loss: 0.1364 - accuracy: 0.9609 - val_loss: 0.1501 - val_accuracy: 0.9571\n",
      "Epoch 35/40\n",
      "375/375 [==============================] - 1s 3ms/step - loss: 0.1338 - accuracy: 0.9622 - val_loss: 0.1480 - val_accuracy: 0.9581\n",
      "Epoch 36/40\n",
      "375/375 [==============================] - 1s 3ms/step - loss: 0.1312 - accuracy: 0.9623 - val_loss: 0.1461 - val_accuracy: 0.9589\n",
      "Epoch 37/40\n",
      "375/375 [==============================] - 1s 3ms/step - loss: 0.1286 - accuracy: 0.9634 - val_loss: 0.1452 - val_accuracy: 0.9597\n",
      "Epoch 38/40\n",
      "375/375 [==============================] - 1s 3ms/step - loss: 0.1260 - accuracy: 0.9641 - val_loss: 0.1433 - val_accuracy: 0.9595\n",
      "Epoch 39/40\n",
      "375/375 [==============================] - 1s 3ms/step - loss: 0.1236 - accuracy: 0.9646 - val_loss: 0.1415 - val_accuracy: 0.9590\n",
      "Epoch 40/40\n",
      "375/375 [==============================] - 1s 3ms/step - loss: 0.1212 - accuracy: 0.9653 - val_loss: 0.1407 - val_accuracy: 0.9597\n"
     ]
    }
   ],
   "source": [
    "history = model.fit(\n",
    "    x_train, y_train,\n",
    "    batch_size = 128,\n",
    "    epochs = 40,\n",
    "    validation_split = 0.2,\n",
    "    verbose = 1\n",
    ")"
   ]
  },
  {
   "cell_type": "code",
   "execution_count": 8,
   "id": "2fc62dd8",
   "metadata": {},
   "outputs": [
    {
     "name": "stdout",
     "output_type": "stream",
     "text": [
      "469/469 [==============================] - 1s 2ms/step - loss: 0.1236 - accuracy: 0.9648\n",
      "Train loss: 0.12364466488361359 Train accuracy: 0.9647833108901978\n"
     ]
    }
   ],
   "source": [
    "loss, accuracy = model.evaluate(x_train, y_train, batch_size=128, verbose=1)\n",
    "print(\"Train loss:\", loss, 'Train accuracy:', accuracy)"
   ]
  },
  {
   "cell_type": "code",
   "execution_count": 9,
   "id": "22f8fb42",
   "metadata": {},
   "outputs": [
    {
     "name": "stdout",
     "output_type": "stream",
     "text": [
      "79/79 [==============================] - 0s 2ms/step - loss: 0.1369 - accuracy: 0.9599\n",
      "Test loss: 0.13685601949691772 Test accuracy: 0.9599000215530396\n"
     ]
    }
   ],
   "source": [
    "test_loss, test_accuracy = model.evaluate(x_test, y_test, batch_size=128, verbose=1)\n",
    "print(\"Test loss:\", test_loss, 'Test accuracy:', test_accuracy)"
   ]
  },
  {
   "cell_type": "code",
   "execution_count": 10,
   "id": "ddd945e1",
   "metadata": {},
   "outputs": [
    {
     "data": {
      "image/png": "[encoded data removed]",
      "text/plain": [
       "<Figure size 432x288 with 1 Axes>"
      ]
     },
     "metadata": {
      "needs_background": "light"
     },
     "output_type": "display_data"
    }
   ],
   "source": [
    "plt.plot(history.history['accuracy'], 'r')\n",
    "plt.plot(history.history['val_accuracy'], 'b')\n",
    "plt.title('Model Accuracy')\n",
    "plt.ylabel('accuracy')\n",
    "plt.xlabel('iteration')\n",
    "plt.legend(['training', 'validation'], loc='lower right')\n",
    "plt.show()"
   ]
  },
  {
   "cell_type": "code",
   "execution_count": 11,
   "id": "e02ca965",
   "metadata": {},
   "outputs": [
    {
     "data": {
      "image/png": "[encoded data removed]",
      "text/plain": [
       "<Figure size 432x288 with 1 Axes>"
      ]
     },
     "metadata": {
      "needs_background": "light"
     },
     "output_type": "display_data"
    }
   ],
   "source": [
    "plt.plot(history.history['loss'], 'r')\n",
    "plt.plot(history.history['val_loss'], 'b')\n",
    "plt.title('Model cost')\n",
    "plt.ylabel('cost')\n",
    "plt.xlabel('iteration')\n",
    "plt.legend(['training', 'validation'], loc='upper right')\n",
    "plt.show()"
   ]
  },
  {
   "cell_type": "code",
   "execution_count": null,
   "id": "f65d0ffb",
   "metadata": {},
   "outputs": [],
   "source": []
  }
 ],
 "metadata": {
  "kernelspec": {
   "display_name": "Python 3 (ipykernel)",
   "language": "python",
   "name": "python3"
  },
  "language_info": {
   "codemirror_mode": {
    "name": "ipython",
    "version": 3
   },
   "file_extension": ".py",
   "mimetype": "text/x-python",
   "name": "python",
   "nbconvert_exporter": "python",
   "pygments_lexer": "ipython3",
   "version": "3.8.10"
  }
 },
 "nbformat": 4,
 "nbformat_minor": 5
}
