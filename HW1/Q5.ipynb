{
 "cells": [
  {
   "cell_type": "markdown",
   "id": "d4647fd3",
   "metadata": {},
   "source": [
    "# HomeWork 1\n",
    "\n",
    "**Bakhshande 98522157**"
   ]
  },
  {
   "cell_type": "markdown",
   "id": "4599dcd8",
   "metadata": {},
   "source": [
    "# Q5"
   ]
  },
  {
   "cell_type": "code",
   "execution_count": 1,
   "id": "66de629d",
   "metadata": {},
   "outputs": [],
   "source": [
    "import copy\n",
    "import numpy as np\n",
    "import matplotlib.pyplot as plt"
   ]
  },
  {
   "cell_type": "markdown",
   "id": "3988d083",
   "metadata": {},
   "source": [
    "## Simple Implementation"
   ]
  },
  {
   "cell_type": "code",
   "execution_count": 2,
   "id": "68e79fc2",
   "metadata": {},
   "outputs": [],
   "source": [
    "def perceptron_1(X, Y, etha):\n",
    "    w = np.array(\n",
    "        [0.1, 0.2, 0.4]\n",
    "    )\n",
    "    change = np.inf\n",
    "    while change > 0.000002:\n",
    "        for i in range(4):\n",
    "            z = np.dot(w, X[i])\n",
    "            error = Y[i] - z\n",
    "            delta = etha * error * X[i]\n",
    "            w = w + delta\n",
    "            change = np.max(abs(delta))\n",
    "            etha = etha / 1.001\n",
    "    return w"
   ]
  },
  {
   "cell_type": "code",
   "execution_count": 3,
   "id": "e389a52f",
   "metadata": {},
   "outputs": [
    {
     "name": "stdout",
     "output_type": "stream",
     "text": [
      "w:  [ 0.49621838 -0.99546834 -0.99797661]\n"
     ]
    }
   ],
   "source": [
    "x_train = np.array([\n",
    "    [1, 0, 0], \n",
    "    [1, 0, 1], \n",
    "    [1, 1, 0], \n",
    "    [1, 1, 1]\n",
    "])\n",
    "y_train = np.array(\n",
    "    [1, -1, -1, -1]\n",
    ")\n",
    "w = perceptron_1(x_train, y_train, 0.1)\n",
    "print(\"w: \", w)"
   ]
  },
  {
   "cell_type": "markdown",
   "id": "4f4dcc8f",
   "metadata": {},
   "source": [
    "## Advanced Implementation"
   ]
  },
  {
   "cell_type": "code",
   "execution_count": 4,
   "id": "8ad796c5",
   "metadata": {},
   "outputs": [],
   "source": [
    "def sigmoid(z):\n",
    "    s = 1 / (1 + np.exp(-z))  \n",
    "    return s"
   ]
  },
  {
   "cell_type": "code",
   "execution_count": 5,
   "id": "5a397eca",
   "metadata": {},
   "outputs": [],
   "source": [
    "def initialize_with_zeros(dim):\n",
    "    w = np.zeros((dim, 1))\n",
    "    b = np.float64(0)\n",
    "    return w, b"
   ]
  },
  {
   "cell_type": "code",
   "execution_count": 6,
   "id": "2933965b",
   "metadata": {},
   "outputs": [],
   "source": [
    "def propagate(w, b, X, Y):  \n",
    "    m = X.shape[1]\n",
    "    A = sigmoid(np.dot(w.T, X) + b)\n",
    "    cost = -(np.sum(Y * np.log(A) + (1 - Y) * np.log(1 - A))) / m\n",
    "    \n",
    "    dw = np.dot(X, (A - Y).T) / m\n",
    "    db = np.sum(A - Y) / m\n",
    "    cost = np.squeeze(np.array(cost))\n",
    "    accuracy = 100 - np.mean(np.abs(A - Y)) * 100\n",
    "    grads = {\"dw\": dw,\n",
    "             \"db\": db}\n",
    "    \n",
    "    return grads, cost, accuracy"
   ]
  },
  {
   "cell_type": "code",
   "execution_count": 7,
   "id": "c84b3d95",
   "metadata": {},
   "outputs": [],
   "source": [
    "def optimize(w, b, X, Y, num_iterations, learning_rate, print_cost):\n",
    "    w = copy.deepcopy(w)\n",
    "    b = copy.deepcopy(b)\n",
    "    \n",
    "    costs = []\n",
    "    accuracies = []\n",
    "    \n",
    "    for i in range(num_iterations):\n",
    "        grads, cost, accuracy = propagate(w, b, X, Y)\n",
    "        dw = grads[\"dw\"]\n",
    "        db = grads[\"db\"]\n",
    "\n",
    "        w = w - learning_rate * dw\n",
    "        b = b - learning_rate * db\n",
    "        \n",
    "        if i % 100 == 0:\n",
    "            costs.append(cost)\n",
    "            accuracies.append(accuracy)\n",
    "            if print_cost:\n",
    "                print (\"iteration %i: Cost: %f , Accuracy: %f\"%(i, cost, accuracy))\n",
    "    \n",
    "    params = {\"w\": w,\n",
    "              \"b\": b}  \n",
    "    grads = {\"dw\": dw,\n",
    "             \"db\": db}\n",
    "    \n",
    "    return params, grads, costs, accuracies"
   ]
  },
  {
   "cell_type": "code",
   "execution_count": 8,
   "id": "45e8bbae",
   "metadata": {},
   "outputs": [],
   "source": [
    "def predict(w, b, X):\n",
    "    m = X.shape[1]\n",
    "    w = w.reshape(X.shape[0], 1)\n",
    "    A = sigmoid(np.dot(w.T, X) + b)\n",
    "    Y_prediction = np.int64(A > 0.5)   \n",
    "    return Y_prediction"
   ]
  },
  {
   "cell_type": "code",
   "execution_count": 9,
   "id": "432718c1",
   "metadata": {},
   "outputs": [],
   "source": [
    "def perceptron_2(X_train, Y_train, num_iterations, learning_rate, print_cost):\n",
    "    w, b = initialize_with_zeros(X_train.shape[0])\n",
    "    params, grads, costs, accuracies = optimize(w, b, X_train, Y_train, num_iterations, learning_rate, print_cost)\n",
    "    w = params[\"w\"]\n",
    "    b = params[\"b\"]\n",
    "    Y_prediction_train = predict(w, b, X_train)\n",
    "    \n",
    "    if print_cost:\n",
    "        print(f\"train accuracy: {accuracies[-1]}\")\n",
    "   \n",
    "    d = {\"w\" : w, \n",
    "         \"b\" : b,\n",
    "         \"learning_rate\" : learning_rate,\n",
    "         \"num_iterations\": num_iterations,\n",
    "         \"costs\": costs,\n",
    "         \"accuracies\": accuracies,\n",
    "         \"Y_prediction_train\" : Y_prediction_train}\n",
    "    \n",
    "    return d"
   ]
  },
  {
   "cell_type": "code",
   "execution_count": 10,
   "id": "92a02ca7",
   "metadata": {},
   "outputs": [
    {
     "name": "stdout",
     "output_type": "stream",
     "text": [
      "(2, 4)\n",
      "(1, 4)\n"
     ]
    }
   ],
   "source": [
    "# init data\n",
    "\n",
    "x_train = np.array([\n",
    "  [0, 0, 1, 1], \n",
    "  [0, 1, 0, 1], \n",
    "])\n",
    "print(x_train.shape)\n",
    "\n",
    "y_train = np.array([\n",
    "  [1, 0, 0, 0]\n",
    "])\n",
    "print(y_train.shape)"
   ]
  },
  {
   "cell_type": "code",
   "execution_count": 11,
   "id": "6ce70197",
   "metadata": {},
   "outputs": [
    {
     "name": "stdout",
     "output_type": "stream",
     "text": [
      "iteration 0: Cost: 0.693147 , Accuracy: 50.000000\n",
      "iteration 100: Cost: 0.156254 , Accuracy: 86.277764\n",
      "iteration 200: Cost: 0.089756 , Accuracy: 91.663089\n",
      "iteration 300: Cost: 0.062008 , Accuracy: 94.106566\n",
      "iteration 400: Cost: 0.047058 , Accuracy: 95.472059\n",
      "iteration 500: Cost: 0.037793 , Accuracy: 96.335765\n",
      "iteration 600: Cost: 0.031518 , Accuracy: 96.928386\n",
      "iteration 700: Cost: 0.026999 , Accuracy: 97.358979\n",
      "iteration 800: Cost: 0.023596 , Accuracy: 97.685402\n",
      "iteration 900: Cost: 0.020945 , Accuracy: 97.941060\n",
      "iteration 1000: Cost: 0.018822 , Accuracy: 98.146537\n",
      "iteration 1100: Cost: 0.017085 , Accuracy: 98.315180\n",
      "iteration 1200: Cost: 0.015638 , Accuracy: 98.456011\n",
      "iteration 1300: Cost: 0.014415 , Accuracy: 98.575344\n",
      "iteration 1400: Cost: 0.013368 , Accuracy: 98.677722\n",
      "iteration 1500: Cost: 0.012461 , Accuracy: 98.766499\n",
      "iteration 1600: Cost: 0.011669 , Accuracy: 98.844202\n",
      "iteration 1700: Cost: 0.010970 , Accuracy: 98.912771\n",
      "iteration 1800: Cost: 0.010350 , Accuracy: 98.973720\n",
      "iteration 1900: Cost: 0.009795 , Accuracy: 99.028245\n",
      "train accuracy: 99.028245169548\n"
     ]
    }
   ],
   "source": [
    "nor_perceptron = perceptron_2(x_train, y_train, num_iterations=2000, learning_rate=0.5, print_cost=True)"
   ]
  },
  {
   "cell_type": "code",
   "execution_count": 12,
   "id": "a5abb8ba",
   "metadata": {},
   "outputs": [
    {
     "name": "stdout",
     "output_type": "stream",
     "text": [
      "w:  [[-8.66182298]\n",
      " [-8.66182298]]\n",
      "b:  3.865753849376571\n",
      "Predicted Output:  [[1 0 0 0]]\n"
     ]
    }
   ],
   "source": [
    "w = nor_perceptron[\"w\"]\n",
    "b = nor_perceptron[\"b\"]\n",
    "y_pred = nor_perceptron[\"Y_prediction_train\"]\n",
    "\n",
    "print(\"w: \", w)\n",
    "print(\"b: \", b)\n",
    "print(\"Predicted Output: \", y_pred)"
   ]
  },
  {
   "cell_type": "code",
   "execution_count": 14,
   "id": "4ffecb5d",
   "metadata": {},
   "outputs": [
    {
     "data": {
      "text/plain": [
       "[<matplotlib.lines.Line2D at 0x2345af4a880>]"
      ]
     },
     "execution_count": 14,
     "metadata": {},
     "output_type": "execute_result"
    },
    {
     "data": {
      "image/png": "[encoded data removed]",
      "text/plain": [
       "<Figure size 432x288 with 1 Axes>"
      ]
     },
     "metadata": {
      "needs_background": "light"
     },
     "output_type": "display_data"
    }
   ],
   "source": [
    "fig, ax = plt.subplots() \n",
    "\n",
    "o_points = x_train.T[y_train.T[:, 0] == 1]\n",
    "x_points = x_train.T[y_train.T[:, 0] == 0]\n",
    "ax.plot(o_points[:, 0], o_points[:, 1], 'mo')\n",
    "ax.plot(x_points[:, 0], x_points[:, 1], 'bx')\n",
    "plt.legend(('label=1', 'label=0'), loc='lower left', shadow=True)\n",
    "\n",
    "x =  np.arange(-1, 3)\n",
    "ax.plot(x, ((w[0][0] * x + b) / (-w[1][0])), color='red')"
   ]
  },
  {
   "cell_type": "code",
   "execution_count": null,
   "id": "07af5505",
   "metadata": {},
   "outputs": [],
   "source": []
  }
 ],
 "metadata": {
  "kernelspec": {
   "display_name": "Python 3 (ipykernel)",
   "language": "python",
   "name": "python3"
  },
  "language_info": {
   "codemirror_mode": {
    "name": "ipython",
    "version": 3
   },
   "file_extension": ".py",
   "mimetype": "text/x-python",
   "name": "python",
   "nbconvert_exporter": "python",
   "pygments_lexer": "ipython3",
   "version": "3.8.10"
  }
 },
 "nbformat": 4,
 "nbformat_minor": 5
}
